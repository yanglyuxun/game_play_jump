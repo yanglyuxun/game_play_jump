{
 "cells": [
  {
   "cell_type": "markdown",
   "metadata": {},
   "source": [
    "This is to show what data is in the memory"
   ]
  },
  {
   "cell_type": "code",
   "execution_count": 25,
   "metadata": {},
   "outputs": [],
   "source": [
    "import pickle\n",
    "import os\n",
    "import matplotlib.pyplot as plt\n",
    "import numpy as np"
   ]
  },
  {
   "cell_type": "code",
   "execution_count": 26,
   "metadata": {},
   "outputs": [
    {
     "name": "stdout",
     "output_type": "stream",
     "text": [
      "t = 5100\n",
      "epsilon = 0.0\n",
      "lenghth of memory: 2000\n"
     ]
    }
   ],
   "source": [
    "with open('mem.pickle','rb') as f:\n",
    "    (t,epsilon,mem)=pickle.load(f)\n",
    "print('t =',t)\n",
    "print('epsilon =',epsilon)\n",
    "print('lenghth of memory:',len(mem))"
   ]
  },
  {
   "cell_type": "code",
   "execution_count": 27,
   "metadata": {},
   "outputs": [
    {
     "name": "stdout",
     "output_type": "stream",
     "text": [
      "Die rate: 0.039\n"
     ]
    }
   ],
   "source": [
    "die_list = [m[4] for m in mem]\n",
    "print('Die rate:', np.mean(die_list))"
   ]
  },
  {
   "cell_type": "code",
   "execution_count": 28,
   "metadata": {},
   "outputs": [],
   "source": [
    "def print_m(m):\n",
    "    (s_t,a_t, r_t,s_t1,die) = m\n",
    "    print('Current state:')\n",
    "    plt.imshow(s_t[0,:,:,0],'gray')\n",
    "    plt.show()\n",
    "    print('Use action:',a_t)\n",
    "    if die:\n",
    "        print('Then die.')\n",
    "    else:\n",
    "        print('Survive and go to:')\n",
    "        plt.imshow(s_t1[0,:,:,0],'gray')\n",
    "        plt.show()\n",
    "    print('Reward:',r_t)"
   ]
  },
  {
   "cell_type": "code",
   "execution_count": 29,
   "metadata": {},
   "outputs": [
    {
     "name": "stdout",
     "output_type": "stream",
     "text": [
      "Current state:\n"
     ]
    },
    {
     "data": {
      "image/png": "[encoded data removed]",
      "text/plain": [
       "<matplotlib.figure.Figure at 0x7f0165a56dd8>"
      ]
     },
     "metadata": {},
     "output_type": "display_data"
    },
    {
     "name": "stdout",
     "output_type": "stream",
     "text": [
      "Use action: 6\n",
      "Survive and go to:\n"
     ]
    },
    {
     "data": {
      "image/png": "[encoded data removed]",
      "text/plain": [
       "<matplotlib.figure.Figure at 0x7f0165a95cc0>"
      ]
     },
     "metadata": {},
     "output_type": "display_data"
    },
    {
     "name": "stdout",
     "output_type": "stream",
     "text": [
      "Reward: 1\n"
     ]
    }
   ],
   "source": [
    "print_m(mem[-1])"
   ]
  }
 ],
 "metadata": {
  "kernelspec": {
   "display_name": "Python 3",
   "language": "python",
   "name": "python3"
  },
  "language_info": {
   "codemirror_mode": {
    "name": "ipython",
    "version": 3
   },
   "file_extension": ".py",
   "mimetype": "text/x-python",
   "name": "python",
   "nbconvert_exporter": "python",
   "pygments_lexer": "ipython3",
   "version": "3.5.4"
  }
 },
 "nbformat": 4,
 "nbformat_minor": 2
}
